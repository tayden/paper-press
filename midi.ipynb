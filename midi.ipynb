{
 "cells": [
  {
   "cell_type": "markdown",
   "metadata": {},
   "source": [
    "## MIDI util functions"
   ]
  },
  {
   "cell_type": "code",
   "execution_count": 1,
   "metadata": {},
   "outputs": [],
   "source": [
    "import rtmidi\n",
    "from time import sleep\n",
    "\n",
    "def open_midi_out_virtual_port(api=rtmidi.RtMidiOut.UNIX_JACK, clientName=\"PyMIDI\"):\n",
    "    \"\"\"Open a midiout port.\"\"\"\n",
    "    # Initialize midi out port\n",
    "    midiout = rtmidi.RtMidiOut(api=rtmidi.RtMidiOut.UNIX_JACK, clientName=\"PyMIDI\")\n",
    "    \n",
    "    # Print some debug info\n",
    "    ports = range(midiout.getPortCount())\n",
    "    if ports:\n",
    "        for i in ports:\n",
    "            print(midiout.getPortName(i))\n",
    "    \n",
    "    # Open the virtual port\n",
    "    print(\"Opening port 0!\") \n",
    "    midiout.openVirtualPort()    \n",
    "    \n",
    "    return midiout\n",
    "            \n",
    "def program_change(midiout, channel, program):\n",
    "    \"\"\"Change the MIDI program (virtual instrument).\"\"\"\n",
    "    msg = rtmidi.MidiMessage.programChange(channel, 1)\n",
    "    midiout.sendMessage(msg)\n",
    "    \n",
    "def controller_event(midiout, channel, controller, level):\n",
    "    \"\"\"Change controller to have level.\"\"\"\n",
    "    msg = rtmidi.MidiMessage.controllerEvent(channel, controller, level)\n",
    "    midiout.sendMessage(msg)\n",
    "    \n",
    "def volume_change(midiout, channel, level):\n",
    "    \"\"\"Change volume to level.\"\"\"\n",
    "    controller_event(midiout, channel, 7, level)\n",
    "    \n",
    "def play_note_on(midiout, channel, note, velocity):\n",
    "    \"\"\"Play note with id note with given velocity until shutoff.\"\"\"\n",
    "    msg = rtmidi.MidiMessage.noteOn(channel, note, velocity)\n",
    "    midiout.sendMessage(msg)\n",
    "    \n",
    "def play_note_off(midiout, channel, note):\n",
    "    \"\"\"Shutoff note with id note.\"\"\"\n",
    "    msg = rtmidi.MidiMessage.noteOff(channel, note)\n",
    "    midiout.sendMessage(msg)\n",
    "    \n",
    "def play_note(midiout, channel, note, velocity, time=1):\n",
    "    \"\"\"Play note with id note with given velocity for time seconds.\"\"\"\n",
    "    play_note_on(midiout, channel, note, velocity)\n",
    "    sleep(time)\n",
    "    play_note_off(midiout, channel, note)"
   ]
  },
  {
   "cell_type": "markdown",
   "metadata": {},
   "source": [
    "## Open the MIDI port"
   ]
  },
  {
   "cell_type": "code",
   "execution_count": 2,
   "metadata": {},
   "outputs": [
    {
     "name": "stdout",
     "output_type": "stream",
     "text": [
      "Midi Through 14:0\n",
      "Opening port 0!\n"
     ]
    }
   ],
   "source": [
    "midiout = open_midi_out_virtual_port()\n",
    "channel = 1"
   ]
  },
  {
   "cell_type": "markdown",
   "metadata": {},
   "source": [
    "## Play some notes"
   ]
  },
  {
   "cell_type": "code",
   "execution_count": 5,
   "metadata": {},
   "outputs": [],
   "source": [
    "# Sound out a series of MIDI messages\n",
    "program_change(midiout, channel, 1)\n",
    "\n",
    "# Control change (volume)\n",
    "volume_change(midiout, channel, 100)\n",
    "\n",
    "# Play C5 a few times\n",
    "for _ in range(3):\n",
    "    play_note(midiout, channel, note=64, velocity=127, time=1)"
   ]
  },
  {
   "cell_type": "markdown",
   "metadata": {},
   "source": [
    "## Close the port"
   ]
  },
  {
   "cell_type": "code",
   "execution_count": 7,
   "metadata": {},
   "outputs": [],
   "source": [
    "midiout.closePort()  # TODO: Doesn't seem to work?"
   ]
  },
  {
   "cell_type": "code",
   "execution_count": null,
   "metadata": {},
   "outputs": [],
   "source": []
  }
 ],
 "metadata": {
  "kernelspec": {
   "display_name": "Python 3",
   "language": "python",
   "name": "python3"
  },
  "language_info": {
   "codemirror_mode": {
    "name": "ipython",
    "version": 3
   },
   "file_extension": ".py",
   "mimetype": "text/x-python",
   "name": "python",
   "nbconvert_exporter": "python",
   "pygments_lexer": "ipython3",
   "version": "3.5.2"
  }
 },
 "nbformat": 4,
 "nbformat_minor": 2
}
