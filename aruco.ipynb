{
 "cells": [
  {
   "cell_type": "code",
   "execution_count": 49,
   "metadata": {},
   "outputs": [],
   "source": [
    "import cv2\n",
    "import numpy as np\n",
    "import matplotlib.pyplot as plt\n",
    "\n",
    "%matplotlib inline"
   ]
  },
  {
   "cell_type": "code",
   "execution_count": 50,
   "metadata": {},
   "outputs": [],
   "source": [
    "def imshow(*args, **kwargs):\n",
    "    plt.figure()\n",
    "    plt.imshow(*args, **kwargs)\n",
    "    plt.show()"
   ]
  },
  {
   "cell_type": "code",
   "execution_count": 81,
   "metadata": {},
   "outputs": [],
   "source": [
    "CAMERA_MATRIX = np.array([[722.47843533, 0., 345.76148326], [0., 719.46836039, 215.29777186], [0., 0., 1.]])\n",
    "DIST_COEFFS = np.array([[ 0.060491, -0.16982899, 0.00052914, 0.00505482, 0.31064351]])\n",
    "\n",
    "MARKER_DICT = cv2.aruco.getPredefinedDictionary(cv2.aruco.DICT_4X4_250)\n",
    "# MARKER_LENGTH = 0.34  # Physical marker length size\n",
    "MARKER_LENGTH = 0.165  # Physical marker length size"
   ]
  },
  {
   "cell_type": "code",
   "execution_count": 73,
   "metadata": {},
   "outputs": [],
   "source": [
    "import math\n",
    "\n",
    "def gen_aruco_markers(size, columns, rows):\n",
    "    \n",
    "    fig = plt.figure(figsize=(8, 8))\n",
    "    \n",
    "    for i in range(1, columns*rows +1):\n",
    "        marker = cv2.aruco.drawMarker(MARKER_DICT, i, size)    \n",
    "        \n",
    "        ax = fig.add_subplot(rows, columns, i)\n",
    "        ax.axis('off')\n",
    "        plt.imshow(marker, cmap='gray')\n",
    "    \n",
    "    plt.show()\n",
    "\n",
    "def detect_markers(img):\n",
    "    \"\"\"Returns corners, ids, rejectedImgPoints.\"\"\"\n",
    "    return cv2.aruco.detectMarkers(img, MARKER_DICT)\n",
    "\n",
    "def draw_markers(img, corners, ids=None):\n",
    "    \"\"\"Returns img with markers drawn.\"\"\"\n",
    "    return cv2.aruco.drawDetectedMarkers(img, corners, ids)\n",
    "\n",
    "def estimate_marker_pose(corners):\n",
    "    \"\"\"returns rvecs, tvecs, _objPoints.\"\"\"\n",
    "    return cv2.aruco.estimatePoseSingleMarkers(corners, MARKER_LENGTH, CAMERA_MATRIX, DIST_COEFFS)\n",
    "\n",
    "def draw_axis(img, rvec, tvec):\n",
    "    \"\"\"Draw the pose estimate on the img.\"\"\"\n",
    "    return cv2.aruco.drawAxis(img, CAMERA_MATRIX, DIST_COEFFS, rvec, tvec, MARKER_LENGTH)"
   ]
  },
  {
   "cell_type": "code",
   "execution_count": 74,
   "metadata": {},
   "outputs": [
    {
     "data": {
      "image/png": "[encoded data removed]",
      "text/plain": [
       "<matplotlib.figure.Figure at 0x7f8b30e370f0>"
      ]
     },
     "metadata": {},
     "output_type": "display_data"
    }
   ],
   "source": [
    "# Generate ARUCO markers\n",
    "gen_aruco_markers(200, 2, 2)"
   ]
  },
  {
   "cell_type": "code",
   "execution_count": 131,
   "metadata": {},
   "outputs": [
    {
     "data": {
      "text/plain": [
       "-1"
      ]
     },
     "execution_count": 131,
     "metadata": {},
     "output_type": "execute_result"
    }
   ],
   "source": [
    "# setup capture\n",
    "camera = cv2.VideoCapture(0)\n",
    "\n",
    "height = 480\n",
    "width = 640\n",
    "fps = 60\n",
    "\n",
    "camera.set(cv2.CAP_PROP_FRAME_WIDTH, width)\n",
    "camera.set(cv2.CAP_PROP_FRAME_HEIGHT, height)\n",
    "camera.set(cv2.CAP_PROP_FPS, fps)\n",
    "# camera.set(cv2.CAP_PROP_AUTO_EXPOSURE, 0.1)\n",
    "\n",
    "# define the codec and create VideoWriter object\n",
    "fourcc = cv2.VideoWriter_fourcc(*'XVID')\n",
    "out = cv2.VideoWriter('output.avi',fourcc, fps, (width, height))\n",
    "record = False\n",
    "\n",
    "rvecs, tvecs = None, None\n",
    "\n",
    "# capture loop\n",
    "while True:\n",
    "    # get frame\n",
    "    ret, frame = camera.read()\n",
    "    \n",
    "    # detect aruco markers\n",
    "    corners, ids, rejects = detect_markers(frame)\n",
    "    \n",
    "    # Draw the markers\n",
    "    frame = draw_markers(frame, corners, ids)\n",
    "    \n",
    "    # Get pose estimates\n",
    "    rvecs, tvecs, _ = estimate_marker_pose(corners)\n",
    "\n",
    "    # Draw the poses\n",
    "    if rvecs is not None:\n",
    "        # Draw axes\n",
    "        for r, t in zip(rvecs, tvecs):\n",
    "            draw_axis(frame, r, t)\n",
    "    \n",
    "        marker = 0\n",
    "        # Write rotation in each coord on frame\n",
    "        text = \"x: %.2f\" % (rvecs[marker][0][0])\n",
    "        cv2.putText(frame, text, (10, 30), cv2.FONT_HERSHEY_SIMPLEX, 1, [0,0,255])\n",
    "        \n",
    "        text = \"y: %.2f\" % (rvecs[marker][0][1])\n",
    "        cv2.putText(frame, text, (10, 60), cv2.FONT_HERSHEY_SIMPLEX, 1, [0,255,0])\n",
    "\n",
    "        text = \"z: %.2f\" % (rvecs[marker][0][2])\n",
    "        cv2.putText(frame, text, (10, 90), cv2.FONT_HERSHEY_SIMPLEX, 1, [255,0,0])\n",
    "    \n",
    "        if rvecs[marker][0][0] < 0:\n",
    "            # keypress occured\n",
    "            cv2.putText(frame, \"KEYPRESS\", (10, 120), cv2.FONT_HERSHEY_SIMPLEX, 1, [255,255,255])\n",
    "    \n",
    "    # Show frames\n",
    "    cv2.imshow('frame', frame)\n",
    "    \n",
    "    # write the flipped frame\n",
    "    record and out.write(frame)\n",
    "\n",
    "    # KEYBOARD INPUT ----------------------------------------------\n",
    "    k = cv2.waitKey(1)\n",
    "    \n",
    "    if k & 0xFF == ord('q'):\n",
    "        break\n",
    "    elif k & 0xFF == ord('p'):\n",
    "        cv2.imwrite('markers.png', frame)\n",
    "        imshow(frame)\n",
    "    elif k & 0xFF == ord('r'):\n",
    "        record = not record\n",
    "        \n",
    "\n",
    "# clean up\n",
    "camera.release()\n",
    "out.release()\n",
    "cv2.destroyAllWindows()\n",
    "cv2.waitKey(1)  # extra waitKey sometimes needed to close camera window"
   ]
  },
  {
   "cell_type": "markdown",
   "metadata": {},
   "source": [
    "## TODO \n",
    "- output key number if pressed\n",
    "- make press detection more robust\n",
    "    - pressed if last 2 of 3 frames shows pressed\n",
    "- calculate velocity of a pressed key"
   ]
  },
  {
   "cell_type": "code",
   "execution_count": null,
   "metadata": {},
   "outputs": [],
   "source": []
  }
 ],
 "metadata": {
  "kernelspec": {
   "display_name": "Python 3",
   "language": "python",
   "name": "python3"
  },
  "language_info": {
   "codemirror_mode": {
    "name": "ipython",
    "version": 3
   },
   "file_extension": ".py",
   "mimetype": "text/x-python",
   "name": "python",
   "nbconvert_exporter": "python",
   "pygments_lexer": "ipython3",
   "version": "3.5.2"
  }
 },
 "nbformat": 4,
 "nbformat_minor": 2
}
